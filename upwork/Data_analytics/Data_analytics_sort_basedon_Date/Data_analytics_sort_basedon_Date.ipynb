{
  "nbformat": 4,
  "nbformat_minor": 0,
  "metadata": {
    "colab": {
      "name": "Data_analytics_sort_basedon_Date.ipynb",
      "provenance": [],
      "collapsed_sections": []
    },
    "kernelspec": {
      "name": "python3",
      "display_name": "Python 3"
    }
  },
  "cells": [
    {
      "cell_type": "markdown",
      "metadata": {
        "id": "lqgbLbwwhj2Q"
      },
      "source": [
        "**Question** Hello, I require to sort through a table of information based on date and time, while taking into consideration other column variables. I would also like an explanation on how to do it as I am trying to learn this myself too. Need this done in python, using pandas.\r\n",
        "\r\n",
        "The current scenario that I have is the table below. I have a data set for numerous days, and I would like to be see only the rows in which the high value at 10am is greater than the open value at 930am by at least 2 (ie, went from 16 to 18) and I would like to see in how many days this was true\r\n",
        "\r\n"
      ]
    },
    {
      "cell_type": "code",
      "metadata": {
        "id": "qkmSQ3267Gi5"
      },
      "source": [
        "import pandas as pd\r\n",
        "import numpy as np"
      ],
      "execution_count": 5,
      "outputs": []
    },
    {
      "cell_type": "markdown",
      "metadata": {
        "id": "3Q1OiRQ0ZuFw"
      },
      "source": [
        "**Read the file**"
      ]
    },
    {
      "cell_type": "code",
      "metadata": {
        "id": "U0tdF1PH7N2b"
      },
      "source": [
        "df=pd.read_excel(r'/content/drive/MyDrive/Copytable.xlsx')"
      ],
      "execution_count": 2,
      "outputs": []
    },
    {
      "cell_type": "code",
      "metadata": {
        "colab": {
          "base_uri": "https://localhost:8080/",
          "height": 235
        },
        "id": "ZojcGW17_T3x",
        "outputId": "1abd0ed2-bdf8-4485-df1b-b9c2a2c93112"
      },
      "source": [
        "df"
      ],
      "execution_count": 3,
      "outputs": [
        {
          "output_type": "execute_result",
          "data": {
            "text/html": [
              "<div>\n",
              "<style scoped>\n",
              "    .dataframe tbody tr th:only-of-type {\n",
              "        vertical-align: middle;\n",
              "    }\n",
              "\n",
              "    .dataframe tbody tr th {\n",
              "        vertical-align: top;\n",
              "    }\n",
              "\n",
              "    .dataframe thead th {\n",
              "        text-align: right;\n",
              "    }\n",
              "</style>\n",
              "<table border=\"1\" class=\"dataframe\">\n",
              "  <thead>\n",
              "    <tr style=\"text-align: right;\">\n",
              "      <th></th>\n",
              "      <th>date</th>\n",
              "      <th>open</th>\n",
              "      <th>high</th>\n",
              "      <th>low</th>\n",
              "      <th>close</th>\n",
              "      <th>volume</th>\n",
              "    </tr>\n",
              "  </thead>\n",
              "  <tbody>\n",
              "    <tr>\n",
              "      <th>0</th>\n",
              "      <td>2021-01-15 10:00:00</td>\n",
              "      <td>18.2500</td>\n",
              "      <td>18.7500</td>\n",
              "      <td>17.75</td>\n",
              "      <td>18.5736</td>\n",
              "      <td>202491</td>\n",
              "    </tr>\n",
              "    <tr>\n",
              "      <th>1</th>\n",
              "      <td>2021-01-15 09:30:00</td>\n",
              "      <td>18.6498</td>\n",
              "      <td>18.6498</td>\n",
              "      <td>18.30</td>\n",
              "      <td>18.5498</td>\n",
              "      <td>2380</td>\n",
              "    </tr>\n",
              "    <tr>\n",
              "      <th>2</th>\n",
              "      <td>2021-01-14 10:00:00</td>\n",
              "      <td>16.5900</td>\n",
              "      <td>16.8000</td>\n",
              "      <td>16.00</td>\n",
              "      <td>16.3500</td>\n",
              "      <td>174669</td>\n",
              "    </tr>\n",
              "    <tr>\n",
              "      <th>3</th>\n",
              "      <td>2021-01-14 09:30:00</td>\n",
              "      <td>16.2500</td>\n",
              "      <td>16.5000</td>\n",
              "      <td>16.20</td>\n",
              "      <td>16.5000</td>\n",
              "      <td>14271</td>\n",
              "    </tr>\n",
              "    <tr>\n",
              "      <th>4</th>\n",
              "      <td>2021-01-13 10:00:00</td>\n",
              "      <td>15.2190</td>\n",
              "      <td>15.8600</td>\n",
              "      <td>14.92</td>\n",
              "      <td>15.1500</td>\n",
              "      <td>213677</td>\n",
              "    </tr>\n",
              "    <tr>\n",
              "      <th>5</th>\n",
              "      <td>2021-01-13 09:30:00</td>\n",
              "      <td>15.1000</td>\n",
              "      <td>15.3236</td>\n",
              "      <td>14.90</td>\n",
              "      <td>15.2000</td>\n",
              "      <td>14288</td>\n",
              "    </tr>\n",
              "  </tbody>\n",
              "</table>\n",
              "</div>"
            ],
            "text/plain": [
              "                 date     open     high    low    close  volume\n",
              "0 2021-01-15 10:00:00  18.2500  18.7500  17.75  18.5736  202491\n",
              "1 2021-01-15 09:30:00  18.6498  18.6498  18.30  18.5498    2380\n",
              "2 2021-01-14 10:00:00  16.5900  16.8000  16.00  16.3500  174669\n",
              "3 2021-01-14 09:30:00  16.2500  16.5000  16.20  16.5000   14271\n",
              "4 2021-01-13 10:00:00  15.2190  15.8600  14.92  15.1500  213677\n",
              "5 2021-01-13 09:30:00  15.1000  15.3236  14.90  15.2000   14288"
            ]
          },
          "metadata": {
            "tags": []
          },
          "execution_count": 3
        }
      ]
    },
    {
      "cell_type": "markdown",
      "metadata": {
        "id": "FmSpwcspagq3"
      },
      "source": [
        "Sort the rows by date in descending order"
      ]
    },
    {
      "cell_type": "code",
      "metadata": {
        "colab": {
          "base_uri": "https://localhost:8080/",
          "height": 235
        },
        "id": "lryshck2Z9kL",
        "outputId": "8d221073-bf4a-479a-e85c-306f6be87ce5"
      },
      "source": [
        "df=df.sort_values(by='date',ascending=False)\r\n",
        "df"
      ],
      "execution_count": 116,
      "outputs": [
        {
          "output_type": "execute_result",
          "data": {
            "text/html": [
              "<div>\n",
              "<style scoped>\n",
              "    .dataframe tbody tr th:only-of-type {\n",
              "        vertical-align: middle;\n",
              "    }\n",
              "\n",
              "    .dataframe tbody tr th {\n",
              "        vertical-align: top;\n",
              "    }\n",
              "\n",
              "    .dataframe thead th {\n",
              "        text-align: right;\n",
              "    }\n",
              "</style>\n",
              "<table border=\"1\" class=\"dataframe\">\n",
              "  <thead>\n",
              "    <tr style=\"text-align: right;\">\n",
              "      <th></th>\n",
              "      <th>date</th>\n",
              "      <th>open</th>\n",
              "      <th>high</th>\n",
              "      <th>low</th>\n",
              "      <th>close</th>\n",
              "      <th>volume</th>\n",
              "    </tr>\n",
              "  </thead>\n",
              "  <tbody>\n",
              "    <tr>\n",
              "      <th>0</th>\n",
              "      <td>2021-01-15 10:00:00</td>\n",
              "      <td>18.2500</td>\n",
              "      <td>18.7500</td>\n",
              "      <td>17.75</td>\n",
              "      <td>18.5736</td>\n",
              "      <td>202491</td>\n",
              "    </tr>\n",
              "    <tr>\n",
              "      <th>1</th>\n",
              "      <td>2021-01-15 09:30:00</td>\n",
              "      <td>18.6498</td>\n",
              "      <td>18.6498</td>\n",
              "      <td>18.30</td>\n",
              "      <td>18.5498</td>\n",
              "      <td>2380</td>\n",
              "    </tr>\n",
              "    <tr>\n",
              "      <th>2</th>\n",
              "      <td>2021-01-14 10:00:00</td>\n",
              "      <td>16.5900</td>\n",
              "      <td>16.8000</td>\n",
              "      <td>16.00</td>\n",
              "      <td>16.3500</td>\n",
              "      <td>174669</td>\n",
              "    </tr>\n",
              "    <tr>\n",
              "      <th>3</th>\n",
              "      <td>2021-01-14 09:30:00</td>\n",
              "      <td>16.2500</td>\n",
              "      <td>16.5000</td>\n",
              "      <td>16.20</td>\n",
              "      <td>16.5000</td>\n",
              "      <td>14271</td>\n",
              "    </tr>\n",
              "    <tr>\n",
              "      <th>4</th>\n",
              "      <td>2021-01-13 10:00:00</td>\n",
              "      <td>15.2190</td>\n",
              "      <td>15.8600</td>\n",
              "      <td>14.92</td>\n",
              "      <td>15.1500</td>\n",
              "      <td>213677</td>\n",
              "    </tr>\n",
              "    <tr>\n",
              "      <th>5</th>\n",
              "      <td>2021-01-13 09:30:00</td>\n",
              "      <td>15.1000</td>\n",
              "      <td>15.3236</td>\n",
              "      <td>14.90</td>\n",
              "      <td>15.2000</td>\n",
              "      <td>14288</td>\n",
              "    </tr>\n",
              "  </tbody>\n",
              "</table>\n",
              "</div>"
            ],
            "text/plain": [
              "                 date     open     high    low    close  volume\n",
              "0 2021-01-15 10:00:00  18.2500  18.7500  17.75  18.5736  202491\n",
              "1 2021-01-15 09:30:00  18.6498  18.6498  18.30  18.5498    2380\n",
              "2 2021-01-14 10:00:00  16.5900  16.8000  16.00  16.3500  174669\n",
              "3 2021-01-14 09:30:00  16.2500  16.5000  16.20  16.5000   14271\n",
              "4 2021-01-13 10:00:00  15.2190  15.8600  14.92  15.1500  213677\n",
              "5 2021-01-13 09:30:00  15.1000  15.3236  14.90  15.2000   14288"
            ]
          },
          "metadata": {
            "tags": []
          },
          "execution_count": 116
        }
      ]
    },
    {
      "cell_type": "markdown",
      "metadata": {
        "id": "ng3OWluKZ1c_"
      },
      "source": [
        "example to show selecting the next row using shift method\r\n"
      ]
    },
    {
      "cell_type": "code",
      "metadata": {
        "colab": {
          "base_uri": "https://localhost:8080/"
        },
        "id": "0il-d7SN_3Vk",
        "outputId": "8fcabd6f-b258-48d7-8783-87dd430e2f19"
      },
      "source": [
        "df['open'].shift(-1)"
      ],
      "execution_count": 19,
      "outputs": [
        {
          "output_type": "execute_result",
          "data": {
            "text/plain": [
              "0    18.6498\n",
              "1    16.5900\n",
              "2    16.2500\n",
              "3    15.2190\n",
              "4    15.1000\n",
              "5        NaN\n",
              "Name: open, dtype: float64"
            ]
          },
          "metadata": {
            "tags": []
          },
          "execution_count": 19
        }
      ]
    },
    {
      "cell_type": "markdown",
      "metadata": {
        "id": "Gflc8gUAa9Fw"
      },
      "source": [
        "subtracting current value of high with next row open *value*"
      ]
    },
    {
      "cell_type": "code",
      "metadata": {
        "id": "ElvQu2nBAzU3"
      },
      "source": [
        "a1=df['high'] - df['open'].shift(-1)"
      ],
      "execution_count": 30,
      "outputs": []
    },
    {
      "cell_type": "markdown",
      "metadata": {
        "id": "I_3pd0B5bIYk"
      },
      "source": [
        "Getting index value of the same day rows"
      ]
    },
    {
      "cell_type": "code",
      "metadata": {
        "colab": {
          "base_uri": "https://localhost:8080/"
        },
        "id": "Qtm4OH6aF-QW",
        "outputId": "262320bb-0a6f-4d9e-d3bd-62c8f98920c1"
      },
      "source": [
        "df[df['date'] - df['date'].shift(-1) <=\"00:30:00\"].index.values.tolist()"
      ],
      "execution_count": 29,
      "outputs": [
        {
          "output_type": "execute_result",
          "data": {
            "text/plain": [
              "[0, 2, 4]"
            ]
          },
          "metadata": {
            "tags": []
          },
          "execution_count": 29
        }
      ]
    },
    {
      "cell_type": "code",
      "metadata": {
        "colab": {
          "base_uri": "https://localhost:8080/"
        },
        "id": "v9MNuPIbObHg",
        "outputId": "44192cdb-4938-473c-b9d4-b54c3b2fb2d3"
      },
      "source": [
        "a1"
      ],
      "execution_count": 37,
      "outputs": [
        {
          "output_type": "execute_result",
          "data": {
            "text/plain": [
              "0    0.1002\n",
              "1    2.0598\n",
              "2    0.5500\n",
              "3    1.2810\n",
              "4    0.7600\n",
              "5       NaN\n",
              "dtype: float64"
            ]
          },
          "metadata": {
            "tags": []
          },
          "execution_count": 37
        }
      ]
    },
    {
      "cell_type": "markdown",
      "metadata": {
        "id": "sOnYYW24baqT"
      },
      "source": [
        "0.5 is the threshould value we have selected "
      ]
    },
    {
      "cell_type": "code",
      "metadata": {
        "id": "DzGjcBhmQx1V"
      },
      "source": [
        "a2=(a1[df[df['date'] - df['date'].shift(-1) <=\"00:30:00\"].index.values.tolist()] > 0.5)"
      ],
      "execution_count": 120,
      "outputs": []
    },
    {
      "cell_type": "markdown",
      "metadata": {
        "id": "UAbO7sCnbnwy"
      },
      "source": [
        "**To get index of rows where value is True**"
      ]
    },
    {
      "cell_type": "code",
      "metadata": {
        "id": "Kw6Hbh6eWo9t"
      },
      "source": [
        "a3=a2[a2].index.values.tolist()"
      ],
      "execution_count": 121,
      "outputs": []
    },
    {
      "cell_type": "markdown",
      "metadata": {
        "id": "4K7QqZ3Bb6Lu"
      },
      "source": [
        "**Final Output**"
      ]
    },
    {
      "cell_type": "code",
      "metadata": {
        "colab": {
          "base_uri": "https://localhost:8080/",
          "height": 111
        },
        "id": "HriTbgDeXr9w",
        "outputId": "846c196c-603c-49fb-bab4-90e58d67bce8"
      },
      "source": [
        "df.iloc[a3]"
      ],
      "execution_count": 122,
      "outputs": [
        {
          "output_type": "execute_result",
          "data": {
            "text/html": [
              "<div>\n",
              "<style scoped>\n",
              "    .dataframe tbody tr th:only-of-type {\n",
              "        vertical-align: middle;\n",
              "    }\n",
              "\n",
              "    .dataframe tbody tr th {\n",
              "        vertical-align: top;\n",
              "    }\n",
              "\n",
              "    .dataframe thead th {\n",
              "        text-align: right;\n",
              "    }\n",
              "</style>\n",
              "<table border=\"1\" class=\"dataframe\">\n",
              "  <thead>\n",
              "    <tr style=\"text-align: right;\">\n",
              "      <th></th>\n",
              "      <th>date</th>\n",
              "      <th>open</th>\n",
              "      <th>high</th>\n",
              "      <th>low</th>\n",
              "      <th>close</th>\n",
              "      <th>volume</th>\n",
              "    </tr>\n",
              "  </thead>\n",
              "  <tbody>\n",
              "    <tr>\n",
              "      <th>2</th>\n",
              "      <td>2021-01-14 10:00:00</td>\n",
              "      <td>16.590</td>\n",
              "      <td>16.80</td>\n",
              "      <td>16.00</td>\n",
              "      <td>16.35</td>\n",
              "      <td>174669</td>\n",
              "    </tr>\n",
              "    <tr>\n",
              "      <th>4</th>\n",
              "      <td>2021-01-13 10:00:00</td>\n",
              "      <td>15.219</td>\n",
              "      <td>15.86</td>\n",
              "      <td>14.92</td>\n",
              "      <td>15.15</td>\n",
              "      <td>213677</td>\n",
              "    </tr>\n",
              "  </tbody>\n",
              "</table>\n",
              "</div>"
            ],
            "text/plain": [
              "                 date    open   high    low  close  volume\n",
              "2 2021-01-14 10:00:00  16.590  16.80  16.00  16.35  174669\n",
              "4 2021-01-13 10:00:00  15.219  15.86  14.92  15.15  213677"
            ]
          },
          "metadata": {
            "tags": []
          },
          "execution_count": 122
        }
      ]
    },
    {
      "cell_type": "code",
      "metadata": {
        "id": "kiSNh5P7ZAIZ"
      },
      "source": [
        ""
      ],
      "execution_count": 119,
      "outputs": []
    }
  ]
}