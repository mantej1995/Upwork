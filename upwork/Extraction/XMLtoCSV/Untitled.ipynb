{
 "cells": [
  {
   "cell_type": "code",
   "execution_count": 1,
   "metadata": {},
   "outputs": [],
   "source": [
    "# import os\n",
    "# import io\n",
    "# from bs4 import BeautifulSoup\n",
    "# import csv\n",
    "# import requests\n",
    "\n",
    "# directory_in_str = 'C:/somedir'\n",
    "\n",
    "# directory = os.fsencode(directory_in_str)\n",
    "\n",
    "# for file in os.listdir(directory):\n",
    "#     filename = os.fsdecode(file)\n",
    "#     full_name = directory_in_str + filename\n",
    "#     handler = open(full_name).read()\n",
    "#     soup = BeautifulSoup(handler, 'lxml')\n",
    "#     pub_ref=soup.find_all('publication-reference')\n",
    "#     for patent in pub_ref:\n",
    "#      country = patent.find_all('country')\n",
    "#      doc_num = patent.find_all('doc-number')\n",
    "#      country_str = str(country)\n",
    "#      doc_num_str = str(doc_num)\n",
    "#      country_str2 = re.search('>(.*)<', country_str)\n",
    "#      doc_num_str2 = re.search('>(.*)<', doc_num_str)\n",
    "#      print(country_str2.group(1) + doc_num_str2.group(1))\n",
    "     \n",
    "\n",
    "#     continue"
   ]
  },
  {
   "cell_type": "markdown",
   "metadata": {},
   "source": [
    "# normal way hangs the computer because it stores the variable in memory"
   ]
  },
  {
   "cell_type": "markdown",
   "metadata": {},
   "source": [
    "# normal way without generators"
   ]
  },
  {
   "cell_type": "code",
   "execution_count": 2,
   "metadata": {},
   "outputs": [
    {
     "name": "stdout",
     "output_type": "stream",
     "text": [
      "US 20200000001\n",
      "US 20200000002\n",
      "US 20200000003\n",
      "US 20200000004\n",
      "US 20200000005\n",
      "US 20200000006\n",
      "US 20200000007\n",
      "US 20200008331\n",
      "US 20200008332\n",
      "US 20200008333\n",
      "US 20200008334\n",
      "US 20200008335\n",
      "US 20200008336\n",
      "1.3159756422042848 min\n"
     ]
    }
   ],
   "source": [
    "import time\n",
    "import re\n",
    "from bs4 import BeautifulSoup as bs\n",
    "start=time.time()\n",
    "handler = open(\"ipab20200102.xml\", \"r\").read()\n",
    "soup = bs(handler, 'lxml')\n",
    "pub_ref=soup.find_all('publication-reference')\n",
    "for patent in pub_ref:\n",
    " country = patent.find_all('country')\n",
    " doc_num = patent.find_all('doc-number')\n",
    " country_str = str(country)\n",
    " doc_num_str = str(doc_num)\n",
    " country_str2 = re.search('>(.*)<', country_str)\n",
    " doc_num_str2 = re.search('>(.*)<', doc_num_str)\n",
    " print(country_str2.group(1)+' ' + doc_num_str2.group(1))\n",
    "end=time.time()\n",
    "print((end-start)/60, 'min')"
   ]
  },
  {
   "cell_type": "markdown",
   "metadata": {},
   "source": [
    "# we use generator because it doesnt load the variable in memory (it reads directly from disk/file one by one)"
   ]
  },
  {
   "cell_type": "markdown",
   "metadata": {},
   "source": [
    "# generators helps to deal with large dataset"
   ]
  },
  {
   "cell_type": "markdown",
   "metadata": {},
   "source": [
    "#  pure generator approach for reading ,performing operations and writing to csv"
   ]
  },
  {
   "cell_type": "code",
   "execution_count": 3,
   "metadata": {},
   "outputs": [],
   "source": [
    "import time\n",
    "import re\n",
    "\n",
    "import csv\n",
    "from bs4 import BeautifulSoup as bs\n",
    "start=time.time()\n",
    "def ty(tag):\n",
    "    #print(\"ey\")\n",
    "    for i in soup.find_all(tag):\n",
    "        yield i \n",
    "def tt(tag):\n",
    "    pub_ref= ty('publication-reference')\n",
    "    for patent in pub_ref:\n",
    "        patent=patent.find_all(tag)\n",
    "        patent=str(patent)\n",
    "        patent=re.search('>(.*)<', patent)\n",
    "        yield patent.group(1)\n",
    "        \n",
    "\n"
   ]
  },
  {
   "cell_type": "code",
   "execution_count": 4,
   "metadata": {},
   "outputs": [],
   "source": [
    "handler = open(\"ipab20200102.xml\", \"r\").read()\n",
    "soup = bs(handler, 'lxml')\n"
   ]
  },
  {
   "cell_type": "code",
   "execution_count": 5,
   "metadata": {},
   "outputs": [],
   "source": [
    "pub_ref= ty('publication-reference')"
   ]
  },
  {
   "cell_type": "code",
   "execution_count": 6,
   "metadata": {},
   "outputs": [],
   "source": [
    "country=tt('country')\n",
    "doc_number=tt('doc-number')\n",
    "kind=tt('kind')\n",
    "date=tt('date')"
   ]
  },
  {
   "cell_type": "code",
   "execution_count": 7,
   "metadata": {},
   "outputs": [],
   "source": [
    "rows=zip(country, doc_number,kind,date)"
   ]
  },
  {
   "cell_type": "code",
   "execution_count": 8,
   "metadata": {},
   "outputs": [],
   "source": [
    "with open(\"f2.csv\",\"w\",newline='') as file1:\n",
    "    writes=csv.writer(file1)\n",
    "\n",
    "    writes.writerow(['country',  'doc_number','kind','date'])\n",
    "    #writes.writerows([row[0],row[1],row[2],row[3]])\n",
    "    for l in rows:\n",
    "        writes.writerow(l)"
   ]
  },
  {
   "cell_type": "code",
   "execution_count": 9,
   "metadata": {},
   "outputs": [
    {
     "name": "stdout",
     "output_type": "stream",
     "text": [
      "1.3871185064315796 min\n"
     ]
    }
   ],
   "source": [
    "end=time.time()\n",
    "print((end-start)/60, 'min')"
   ]
  }
 ],
 "metadata": {
  "kernelspec": {
   "display_name": "Python 3",
   "language": "python",
   "name": "python3"
  },
  "language_info": {
   "codemirror_mode": {
    "name": "ipython",
    "version": 3
   },
   "file_extension": ".py",
   "mimetype": "text/x-python",
   "name": "python",
   "nbconvert_exporter": "python",
   "pygments_lexer": "ipython3",
   "version": "3.6.5"
  }
 },
 "nbformat": 4,
 "nbformat_minor": 2
}
